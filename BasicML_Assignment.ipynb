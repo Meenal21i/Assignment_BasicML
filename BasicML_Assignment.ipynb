{
 "cells": [
  {
   "cell_type": "markdown",
   "id": "6a6e3c4e-3028-4e82-8227-f12cc4164a7c",
   "metadata": {},
   "source": [
    "Bayes' Theorem in Medical Diagnosis\n",
    "Bayes' Theorem can be applied to medical diagnosis to determine the probability of a patient having a disease given a positive test result.\n",
    "\n",
    "Bayes' Theorem Formula:\n",
    "\n",
    "𝑃\n",
    "(\n",
    "𝐴\n",
    "∣\n",
    "𝐵\n",
    ")\n",
    "=\n",
    "𝑃\n",
    "(\n",
    "𝐵\n",
    "∣\n",
    "𝐴\n",
    ")\n",
    "⋅\n",
    "𝑃\n",
    "(\n",
    "𝐴\n",
    ")\n",
    "𝑃\n",
    "(\n",
    "𝐵\n",
    ")\n",
    "P(A∣B)= \n",
    "P(B)\n",
    "P(B∣A)⋅P(A)\n",
    "​\n",
    " \n",
    "\n",
    "Where:\n",
    "\n",
    "𝑃\n",
    "(\n",
    "𝐴\n",
    "∣\n",
    "𝐵\n",
    ")\n",
    "P(A∣B) is the posterior probability (probability of having the disease given a positive test).\n",
    "𝑃\n",
    "(\n",
    "𝐵\n",
    "∣\n",
    "𝐴\n",
    ")\n",
    "P(B∣A) is the likelihood (probability of testing positive if the patient has the disease).\n",
    "𝑃\n",
    "(\n",
    "𝐴\n",
    ")\n",
    "P(A) is the prior probability (initial probability of having the disease).\n",
    "𝑃\n",
    "(\n",
    "𝐵\n",
    ")\n",
    "P(B) is the marginal likelihood (probability of testing positive, regardless of disease status).\n",
    "\n",
    "Let's assume:\n",
    "\n",
    "The probability of having the disease (\n",
    "𝑃\n",
    "(\n",
    "𝐷\n",
    ")\n",
    "P(D)) is 1% (0.01).\n",
    "The probability of testing positive given the disease (\n",
    "𝑃\n",
    "(\n",
    "𝑇\n",
    "∣\n",
    "𝐷\n",
    ")\n",
    "P(T∣D)) is 99% (0.99).\n",
    "The probability of testing positive without the disease (\n",
    "𝑃\n",
    "(\n",
    "𝑇\n",
    "∣\n",
    "¬\n",
    "𝐷\n",
    ")\n",
    "P(T∣¬D)) is 5% (0.05).\n",
    "Using Bayes' Theorem, we can calculate the probability of having the disease given a positive test result (\n",
    "𝑃\n",
    "(\n",
    "𝐷\n",
    "∣\n",
    "𝑇\n",
    ")\n",
    "P(D∣T))."
   ]
  },
  {
   "cell_type": "code",
   "execution_count": 1,
   "id": "0c9ca9a2-dafe-4a34-9e1a-74b513041b4b",
   "metadata": {},
   "outputs": [
    {
     "name": "stdout",
     "output_type": "stream",
     "text": [
      "The probability of having the disease given a positive test result is: 0.1667\n"
     ]
    }
   ],
   "source": [
    "# Given probabilities\n",
    "P_D = 0.01            # Prior probability of having the disease\n",
    "P_not_D = 1 - P_D     # Prior probability of not having the disease\n",
    "P_T_given_D = 0.99    # Probability of testing positive given having the disease\n",
    "P_T_given_not_D = 0.05 # Probability of testing positive given not having the disease\n",
    "\n",
    "# Applying Bayes' Theorem\n",
    "P_T = P_T_given_D * P_D + P_T_given_not_D * P_not_D  # Total probability of testing positive\n",
    "P_D_given_T = (P_T_given_D * P_D) / P_T  # Posterior probability of having the disease given a positive test\n",
    "\n",
    "print(f\"The probability of having the disease given a positive test result is: {P_D_given_T:.4f}\")\n"
   ]
  },
  {
   "cell_type": "markdown",
   "id": "dd0a33d0-c8de-4de5-b984-3558e15b731b",
   "metadata": {},
   "source": [
    "## Eigenvalues and Eigenvectors\n",
    "Eigenvalues and eigenvectors are key concepts in linear algebra, used in many applications like PCA, stability analysis, and quantum mechanics.\n",
    "\n",
    "Example:\n",
    "\n",
    "Given a 2x2 matrix:\n",
    "𝐴\n",
    "=\n",
    "[\n",
    "4\n",
    "1\n",
    "2\n",
    "3\n",
    "]\n",
    "A=[ \n",
    "4\n",
    "2\n",
    "​\n",
    "  \n",
    "1\n",
    "3\n",
    "​\n",
    " ]\n",
    "\n",
    "We can find its eigenvalues and corresponding eigenvectors."
   ]
  },
  {
   "cell_type": "code",
   "execution_count": 2,
   "id": "8be8ccce-a0ad-4432-804c-2fce48ba89c8",
   "metadata": {},
   "outputs": [
    {
     "name": "stdout",
     "output_type": "stream",
     "text": [
      "Eigenvalues:\n",
      "[5. 2.]\n",
      "\n",
      "Eigenvectors:\n",
      "[[ 0.70710678 -0.4472136 ]\n",
      " [ 0.70710678  0.89442719]]\n"
     ]
    }
   ],
   "source": [
    "import numpy as np\n",
    "\n",
    "# Define the matrix\n",
    "A = np.array([[4, 1],\n",
    "              [2, 3]])\n",
    "\n",
    "# Compute the eigenvalues and eigenvectors\n",
    "eigenvalues, eigenvectors = np.linalg.eig(A)\n",
    "\n",
    "print(\"Eigenvalues:\")\n",
    "print(eigenvalues)\n",
    "print(\"\\nEigenvectors:\")\n",
    "print(eigenvectors)\n"
   ]
  },
  {
   "cell_type": "markdown",
   "id": "897c3362-6eff-4768-afbd-46f3e52e927e",
   "metadata": {},
   "source": [
    "### Determinant and Inverse of a 3x3 Matrix"
   ]
  },
  {
   "cell_type": "code",
   "execution_count": 5,
   "id": "6bed7dcf-e6ea-4f6c-a586-5f7768a7ca15",
   "metadata": {},
   "outputs": [
    {
     "name": "stdout",
     "output_type": "stream",
     "text": [
      "Determinant of the matrix is: -0.00\n",
      "\n",
      "Inverse of the matrix:\n",
      "[[-9.00719925e+15  2.00159983e+15  5.00399959e+15]\n",
      " [ 9.00719925e+15 -2.00159983e+15 -5.00399959e+15]\n",
      " [-9.00719925e+15  2.00159983e+15  5.00399959e+15]]\n"
     ]
    }
   ],
   "source": [
    "import numpy as np\n",
    "\n",
    "# Define the 3x3 matrix\n",
    "B = np.array([[2, 3, 1],\n",
    "              [4, 1, -3],\n",
    "              [2, 5, 3]])\n",
    "\n",
    "# Calculate the determinant\n",
    "determinant = np.linalg.det(B)\n",
    "print(f\"Determinant of the matrix is: {determinant:.2f}\")\n",
    "\n",
    "# Calculate the inverse if the determinant is non-zero\n",
    "if determinant != 0:\n",
    "    inverse = np.linalg.inv(B)\n",
    "    print(\"\\nInverse of the matrix:\")\n",
    "    print(inverse)\n",
    "else:\n",
    "    print(\"The matrix is singular and does not have an inverse.\")\n"
   ]
  },
  {
   "cell_type": "markdown",
   "id": "ba26ee35-0be2-441c-b47c-30bd4dc512ab",
   "metadata": {},
   "source": [
    "## Properties and Applications of the Normal Distribution\n",
    "Calculate the probability of a random variable \n",
    "𝑋\n",
    "X being less than a given value \n",
    "𝑥\n",
    "x in a normal distribution with a mean of 100 and a standard deviation of 15."
   ]
  },
  {
   "cell_type": "code",
   "execution_count": 4,
   "id": "2f6a4a25-6536-4225-8ad7-b64870d3b743",
   "metadata": {},
   "outputs": [
    {
     "name": "stdout",
     "output_type": "stream",
     "text": [
      "The probability that X is less than 110 is: 0.7475\n"
     ]
    }
   ],
   "source": [
    "import scipy.stats as stats\n",
    "\n",
    "# Given parameters\n",
    "mean = 100\n",
    "std_dev = 15\n",
    "x_value = 110\n",
    "\n",
    "# Calculate the cumulative probability\n",
    "probability = stats.norm.cdf(x_value, loc=mean, scale=std_dev)\n",
    "\n",
    "print(f\"The probability that X is less than {x_value} is: {probability:.4f}\")\n"
   ]
  },
  {
   "cell_type": "code",
   "execution_count": null,
   "id": "00de4f08-aa31-41ab-97c6-ae6a78f93a16",
   "metadata": {},
   "outputs": [],
   "source": []
  }
 ],
 "metadata": {
  "kernelspec": {
   "display_name": "Python 3 (ipykernel)",
   "language": "python",
   "name": "python3"
  },
  "language_info": {
   "codemirror_mode": {
    "name": "ipython",
    "version": 3
   },
   "file_extension": ".py",
   "mimetype": "text/x-python",
   "name": "python",
   "nbconvert_exporter": "python",
   "pygments_lexer": "ipython3",
   "version": "3.11.7"
  }
 },
 "nbformat": 4,
 "nbformat_minor": 5
}
